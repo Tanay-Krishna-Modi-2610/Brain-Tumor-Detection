{
  "nbformat": 4,
  "nbformat_minor": 0,
  "metadata": {
    "colab": {
      "provenance": [],
      "authorship_tag": "ABX9TyMmW4v/O2iYDlF+WUM8Z3Ta"
    },
    "kernelspec": {
      "name": "python3",
      "display_name": "Python 3"
    },
    "language_info": {
      "name": "python"
    }
  },
  "cells": [
    {
      "cell_type": "code",
      "source": [
        "!pip install keras.utils\n",
        "import keras.utils"
      ],
      "metadata": {
        "colab": {
          "base_uri": "https://localhost:8080/"
        },
        "id": "oMEc0OOkUz_n",
        "outputId": "cd77d7d6-ac93-4524-9e94-916bbefa5440"
      },
      "execution_count": null,
      "outputs": [
        {
          "output_type": "stream",
          "name": "stdout",
          "text": [
            "Collecting keras.utils\n",
            "  Downloading keras-utils-1.0.13.tar.gz (2.4 kB)\n",
            "  Preparing metadata (setup.py) ... \u001b[?25l\u001b[?25hdone\n",
            "Requirement already satisfied: Keras>=2.1.5 in /usr/local/lib/python3.10/dist-packages (from keras.utils) (2.14.0)\n",
            "Building wheels for collected packages: keras.utils\n",
            "  Building wheel for keras.utils (setup.py) ... \u001b[?25l\u001b[?25hdone\n",
            "  Created wheel for keras.utils: filename=keras_utils-1.0.13-py3-none-any.whl size=2632 sha256=3a8b393d8412b12346be0b452f3044288dabd9c176f832fda75db6dfa9812248\n",
            "  Stored in directory: /root/.cache/pip/wheels/5c/c0/b3/0c332de4fd71f3733ea6d61697464b7ae4b2b5ff0300e6ca7a\n",
            "Successfully built keras.utils\n",
            "Installing collected packages: keras.utils\n",
            "Successfully installed keras.utils-1.0.13\n"
          ]
        }
      ]
    },
    {
      "cell_type": "code",
      "source": [
        "!pip install PyQt5\n",
        "import PyQt5"
      ],
      "metadata": {
        "colab": {
          "base_uri": "https://localhost:8080/"
        },
        "id": "MaUji2I6V9FH",
        "outputId": "11d5cf25-fc1f-4ef9-9955-d269da544608"
      },
      "execution_count": null,
      "outputs": [
        {
          "output_type": "stream",
          "name": "stdout",
          "text": [
            "Collecting PyQt5\n",
            "  Downloading PyQt5-5.15.10-cp37-abi3-manylinux_2_17_x86_64.whl (8.2 MB)\n",
            "\u001b[2K     \u001b[90m━━━━━━━━━━━━━━━━━━━━━━━━━━━━━━━━━━━━━━━━\u001b[0m \u001b[32m8.2/8.2 MB\u001b[0m \u001b[31m39.0 MB/s\u001b[0m eta \u001b[36m0:00:00\u001b[0m\n",
            "\u001b[?25hCollecting PyQt5-sip<13,>=12.13 (from PyQt5)\n",
            "  Downloading PyQt5_sip-12.13.0-cp310-cp310-manylinux_2_5_x86_64.manylinux1_x86_64.whl (338 kB)\n",
            "\u001b[2K     \u001b[90m━━━━━━━━━━━━━━━━━━━━━━━━━━━━━━━━━━━━━━━━\u001b[0m \u001b[32m338.1/338.1 kB\u001b[0m \u001b[31m33.7 MB/s\u001b[0m eta \u001b[36m0:00:00\u001b[0m\n",
            "\u001b[?25hCollecting PyQt5-Qt5>=5.15.2 (from PyQt5)\n",
            "  Downloading PyQt5_Qt5-5.15.2-py3-none-manylinux2014_x86_64.whl (59.9 MB)\n",
            "\u001b[2K     \u001b[90m━━━━━━━━━━━━━━━━━━━━━━━━━━━━━━━━━━━━━━━━\u001b[0m \u001b[32m59.9/59.9 MB\u001b[0m \u001b[31m10.5 MB/s\u001b[0m eta \u001b[36m0:00:00\u001b[0m\n",
            "\u001b[?25hInstalling collected packages: PyQt5-Qt5, PyQt5-sip, PyQt5\n",
            "Successfully installed PyQt5-5.15.10 PyQt5-Qt5-5.15.2 PyQt5-sip-12.13.0\n"
          ]
        }
      ]
    },
    {
      "cell_type": "code",
      "source": [
        "!pip install gtts\n",
        "import gtts"
      ],
      "metadata": {
        "colab": {
          "base_uri": "https://localhost:8080/"
        },
        "id": "DACt1LmWWK8M",
        "outputId": "fa843362-7fe3-4176-fd75-6d4e65fe2484"
      },
      "execution_count": null,
      "outputs": [
        {
          "output_type": "stream",
          "name": "stdout",
          "text": [
            "Collecting gtts\n",
            "  Downloading gTTS-2.4.0-py3-none-any.whl (29 kB)\n",
            "Requirement already satisfied: requests<3,>=2.27 in /usr/local/lib/python3.10/dist-packages (from gtts) (2.31.0)\n",
            "Requirement already satisfied: click<8.2,>=7.1 in /usr/local/lib/python3.10/dist-packages (from gtts) (8.1.7)\n",
            "Requirement already satisfied: charset-normalizer<4,>=2 in /usr/local/lib/python3.10/dist-packages (from requests<3,>=2.27->gtts) (3.3.2)\n",
            "Requirement already satisfied: idna<4,>=2.5 in /usr/local/lib/python3.10/dist-packages (from requests<3,>=2.27->gtts) (3.4)\n",
            "Requirement already satisfied: urllib3<3,>=1.21.1 in /usr/local/lib/python3.10/dist-packages (from requests<3,>=2.27->gtts) (2.0.7)\n",
            "Requirement already satisfied: certifi>=2017.4.17 in /usr/local/lib/python3.10/dist-packages (from requests<3,>=2.27->gtts) (2023.7.22)\n",
            "Installing collected packages: gtts\n",
            "Successfully installed gtts-2.4.0\n"
          ]
        }
      ]
    },
    {
      "cell_type": "code",
      "source": [
        "!pip install PySide2"
      ],
      "metadata": {
        "colab": {
          "base_uri": "https://localhost:8080/"
        },
        "id": "3BzFBqqIho88",
        "outputId": "d28a2b39-faeb-4786-a2b4-ab95e27fd3c7"
      },
      "execution_count": null,
      "outputs": [
        {
          "output_type": "stream",
          "name": "stdout",
          "text": [
            "Collecting PySide2\n",
            "  Downloading PySide2-5.15.2.1-5.15.2-cp35.cp36.cp37.cp38.cp39.cp310-abi3-manylinux1_x86_64.whl (164.3 MB)\n",
            "\u001b[2K     \u001b[90m━━━━━━━━━━━━━━━━━━━━━━━━━━━━━━━━━━━━━━━━\u001b[0m \u001b[32m164.3/164.3 MB\u001b[0m \u001b[31m6.5 MB/s\u001b[0m eta \u001b[36m0:00:00\u001b[0m\n",
            "\u001b[?25hCollecting shiboken2==5.15.2.1 (from PySide2)\n",
            "  Downloading shiboken2-5.15.2.1-5.15.2-cp35.cp36.cp37.cp38.cp39.cp310-abi3-manylinux1_x86_64.whl (975 kB)\n",
            "\u001b[2K     \u001b[90m━━━━━━━━━━━━━━━━━━━━━━━━━━━━━━━━━━━━━━━━\u001b[0m \u001b[32m975.4/975.4 kB\u001b[0m \u001b[31m62.5 MB/s\u001b[0m eta \u001b[36m0:00:00\u001b[0m\n",
            "\u001b[?25hInstalling collected packages: shiboken2, PySide2\n",
            "Successfully installed PySide2-5.15.2.1 shiboken2-5.15.2.1\n"
          ]
        }
      ]
    },
    {
      "cell_type": "code",
      "source": [
        "!pip install sip"
      ],
      "metadata": {
        "colab": {
          "base_uri": "https://localhost:8080/"
        },
        "id": "EH0p9PAxoap4",
        "outputId": "4801d6a9-9b50-4372-b586-d304a06c48ea"
      },
      "execution_count": null,
      "outputs": [
        {
          "output_type": "stream",
          "name": "stdout",
          "text": [
            "Collecting sip\n",
            "  Downloading sip-6.7.12-cp37-abi3-manylinux_2_5_x86_64.manylinux1_x86_64.whl (882 kB)\n",
            "\u001b[2K     \u001b[90m━━━━━━━━━━━━━━━━━━━━━━━━━━━━━━━━━━━━━━━━\u001b[0m \u001b[32m882.5/882.5 kB\u001b[0m \u001b[31m5.4 MB/s\u001b[0m eta \u001b[36m0:00:00\u001b[0m\n",
            "\u001b[?25hRequirement already satisfied: packaging in /usr/local/lib/python3.10/dist-packages (from sip) (23.2)\n",
            "Collecting ply (from sip)\n",
            "  Downloading ply-3.11-py2.py3-none-any.whl (49 kB)\n",
            "\u001b[2K     \u001b[90m━━━━━━━━━━━━━━━━━━━━━━━━━━━━━━━━━━━━━━━━\u001b[0m \u001b[32m49.6/49.6 kB\u001b[0m \u001b[31m6.4 MB/s\u001b[0m eta \u001b[36m0:00:00\u001b[0m\n",
            "\u001b[?25hRequirement already satisfied: setuptools in /usr/local/lib/python3.10/dist-packages (from sip) (67.7.2)\n",
            "Requirement already satisfied: tomli in /usr/local/lib/python3.10/dist-packages (from sip) (2.0.1)\n",
            "Installing collected packages: ply, sip\n",
            "Successfully installed ply-3.11 sip-6.7.12\n"
          ]
        }
      ]
    },
    {
      "cell_type": "code",
      "source": [
        "from PyQt5 import QtWidgets"
      ],
      "metadata": {
        "id": "2GpbJQvcrY-g"
      },
      "execution_count": null,
      "outputs": []
    },
    {
      "cell_type": "code",
      "source": [
        "import warnings\n",
        "warnings.filterwarnings('ignore')\n",
        "import tensorflow as tf\n",
        "from tensorflow import keras\n",
        "from keras.applications.vgg16 import preprocess_input\n",
        "import numpy as np\n",
        "from tensorflow.keras.preprocessing import image\n",
        "\n",
        "from tensorflow.keras.preprocessing.image import load_img\n",
        "from PIL import Image\n",
        "\n",
        "from PyQt5.QtWidgets import QFileDialog\n",
        "from PyQt5.QtGui import QMovie\n",
        "from PyQt5.QtWidgets import QApplication, QWidget, QMainWindow, QPushButton, QMessageBox, QBoxLayout\n",
        "from PyQt5.QtGui import QIcon\n",
        "from PyQt5.QtCore import pyqtSlot\n",
        "from PyQt5.QtWidgets import QTableWidget, QTableWidgetItem\n",
        "from PyQt5.QtWidgets import QInputDialog, QLineEdit, QDialog\n",
        "\n",
        "from tensorflow.keras.preprocessing.image import load_img, img_to_array\n",
        "from tensorflow.keras.models import load_model\n",
        "\n",
        "from gtts import gTTS\n",
        "import os"
      ],
      "metadata": {
        "id": "G2i1XLTyhING"
      },
      "execution_count": null,
      "outputs": []
    },
    {
      "cell_type": "code",
      "source": [
        "from tensorflow.keras.applications import imagenet_utils"
      ],
      "metadata": {
        "id": "op9G0dJziQrV"
      },
      "execution_count": null,
      "outputs": []
    },
    {
      "cell_type": "code",
      "source": [
        "from PyQt5 import QtWidgets\n",
        "class Ui_MainWindow(object):\n",
        "    def setupUi(self, MainWindow):\n",
        "        MainWindow.setObjectName(\"MainWindow\")\n",
        "        MainWindow.resize(695, 609)\n",
        "        self.centralwidget = QtWidgets.QWidget(MainWindow)\n",
        "        self.centralwidget.setObjectName(\"centralwidget\")\n",
        "        self.frame = QtWidgets.QFrame(self.centralwidget)\n",
        "        self.frame.setGeometry(QtCore.QRect(0, 0, 701, 611))\n",
        "        self.frame.setStyleSheet(\"background-color: #035874;\")\n",
        "        self.frame.setFrameShape(QtWidgets.QFrame.StyledPanel)\n",
        "        self.frame.setFrameShadow(QtWidgets.QFrame.Raised)\n",
        "        self.frame.setObjectName(\"frame\")\n",
        "        self.label = QtWidgets.QLabel(self.frame)\n",
        "        self.label.setGeometry(QtCore.QRect(80, -60, 541, 561))\n",
        "        self.label.setText(\"\")\n",
        "        self.gif=QMovie(\"picture.gif\")\n",
        "        self.label.setMovie(self.gif)\n",
        "        self.gif.start()\n",
        "        self.label.setObjectName(\"label\")\n",
        "        self.label_2 = QtWidgets.QLabel(self.frame)\n",
        "        self.label_2.setGeometry(QtCore.QRect(80, 430, 591, 41))\n",
        "        font = QtGui.QFont()\n",
        "        font.setPointSize(24)\n",
        "        font.setBold(True)\n",
        "        font.setWeight(75)\n",
        "        self.label_2.setFont(font)\n",
        "        self.label_2.setObjectName(\"label_2\")\n",
        "        self.pushButton = QtWidgets.QPushButton(self.frame)\n",
        "        self.pushButton.setGeometry(QtCore.QRect(30, 530, 201, 31))\n",
        "        font = QtGui.QFont()\n",
        "        font.setPointSize(12)\n",
        "        font.setBold(True)\n",
        "        font.setWeight(75)\n",
        "        icon = QtGui.QIcon()\n",
        "        icon.addPixmap(QtGui.QPixmap(\"patient.png\"), QtGui.QIcon.Normal, QtGui.QIcon.Off)\n",
        "        MainWindow.setWindowIcon(icon)\n",
        "        self.pushButton.setFont(font)\n",
        "        self.pushButton.setStyleSheet(\"QPushButton{\\n\"\"border-radius: 10px;\\n\"\" background-color:#DF582C;\\n\"\"\\n\"\"}\\n\"\"QPushButton:hover {\\n\"\n",
        "\" background-color: #7D93E0;\\n\"\n",
        "\"}\")\n",
        "        self.pushButton.setObjectName(\"pushButton\")\n",
        "        self.pushButton_2 = QtWidgets.QPushButton(self.frame)\n",
        "        self.pushButton_2.setGeometry(QtCore.QRect(450, 530, 201, 31))\n",
        "        font = QtGui.QFont()\n",
        "        font.setPointSize(12)\n",
        "        font.setBold(True)\n",
        "        font.setWeight(75)\n",
        "        self.pushButton_2.setFont(font)\n",
        "        self.pushButton_2.setStyleSheet(\"QPushButton{\\n\"\n",
        "\"border-radius: 10px;\\n\"\n",
        "\" background-color:#DF582C;\\n\"\n",
        "\"\\n\"\n",
        "\"}\\n\"\n",
        "\"QPushButton:hover {\\n\"\n",
        "\" background-color: #7D93E0;\\n\"\n",
        "\"}\")\n",
        "        self.pushButton_2.setObjectName(\"pushButton_2\")\n",
        "        MainWindow.setCentralWidget(self.centralwidget)\n",
        "\n",
        "        self.retranslateUi(MainWindow)\n",
        "        QtCore.QMetaObject.connectSlotsByName(MainWindow)\n",
        "        self.pushButton.clicked.connect(self.upload_image)\n",
        "        self.pushButton_2.clicked.connect(self.predict_result)\n",
        "\n",
        "    def retranslateUi(self, MainWindow):\n",
        "        _translate = QtCore.QCoreApplication.translate\n",
        "        MainWindow.setWindowTitle(_translate(\"MainWindow\", \"Brain Tumor Detection Apps\"))\n",
        "        self.label.setToolTip(_translate(\"MainWindow\", \"<html><head/><body><p><img src=\\\":/newPrefix/picture.gif\\\"/></p></body></html>\"))\n",
        "        self.label_2.setText(_translate(\"MainWindow\", \"MRI Images Brain Tumor Detection\"))\n",
        "        self.pushButton.setText(_translate(\"MainWindow\", \"Upload Image\"))\n",
        "        self.pushButton_2.setText(_translate(\"MainWindow\", \"Prediction\"))\n",
        "    def upload_image(self):\n",
        "        filename=QFileDialog.getOpenFileName()\n",
        "        path=filename[0]\n",
        "        path=str(path)\n",
        "        print(path)\n",
        "        model  = load_model('saved_model/project_model')\n",
        "        img_file=image.load_img(path,target_size=(240,240))\n",
        "        x=image.img_to_array(img_file)\n",
        "        x=np.expand_dims(x, axis=0)\n",
        "        global result\n",
        "        img_data=preprocess_input(x.astype('float32'))\n",
        "        classes=model.predict(img_data)\n",
        "        result=classes.tolist()\n",
        "\n",
        "    def predict_result(self):\n",
        "        if not result:\n",
        "            print(\"Error: result list is empty\")\n",
        "            return\n",
        "        if not isinstance(result[0], list) or len(result[0]) < 1:\n",
        "            print(\"Error: result list has unexpected structure\")\n",
        "            return\n",
        "        print(result)\n",
        "        if result[0][0]>0.5:\n",
        "            print(\"Result is Normal\")\n",
        "\n",
        "        else:\n",
        "            print(\"Brain Tumor Detected\")\n",
        "\n",
        "\n",
        "if __name__ == \"__main__\":\n",
        "    import sys\n",
        "    app = QtWidgets.QApplication(sys.argv)\n",
        "    MainWindow = QtWidgets.QMainWindow()\n",
        "    ui = Ui_MainWindow()\n",
        "    ui.setupUi(MainWindow)\n",
        "    MainWindow.show()\n",
        "    sys.exit(app.exec_())"
      ],
      "metadata": {
        "id": "4HCKrIYUqpaV"
      },
      "execution_count": null,
      "outputs": []
    }
  ]
}